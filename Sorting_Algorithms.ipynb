{
  "nbformat": 4,
  "nbformat_minor": 0,
  "metadata": {
    "colab": {
      "provenance": []
    },
    "kernelspec": {
      "name": "python3",
      "display_name": "Python 3"
    },
    "language_info": {
      "name": "python"
    }
  },
  "cells": [
    {
      "cell_type": "code",
      "execution_count": null,
      "metadata": {
        "id": "VZfyUitCZ01x"
      },
      "outputs": [],
      "source": [
        "import time"
      ]
    },
    {
      "cell_type": "code",
      "source": [
        "def hybrid_sort(nums):\n",
        "  \"\"\"\n",
        "  Hybrid sorting algorithm that uses both Lomuto and Hoare partitioning schemes.\n",
        "  Args:\n",
        "    nums: The array to be sorted.\n",
        "  Returns:\n",
        "    A new array that is sorted in ascending order.\n",
        "  \"\"\"\n",
        "  def lomuto_partition(nums, low, high):\n",
        "     \"\"\"\n",
        "    Partitions the array using Lomuto's partitioning scheme.\n",
        "    Args:\n",
        "      array: The array to be partitioned.\n",
        "      low: The lower bound of the sub-array to partition.\n",
        "      high: The upper bound of the sub-array to partition.\n",
        "    Returns:\n",
        "      The partition index (i.e., the index of the pivot element).\n",
        "    \"\"\"\n",
        "    pivot = nums[high]\n",
        "    i = low - 1\n",
        "    for j in range(low, high):\n",
        "      if nums[j] < pivot:\n",
        "        i += 1\n",
        "        nums[i], nums[j] = nums[j], nums[i]\n",
        "    nums[i + 1], nums[high] = nums[high], nums[i + 1]\n",
        "    return (i + 1)\n",
        "\n",
        "  def hoare_partition(nums, low, high):\n",
        "     \"\"\"\n",
        "    Partitions the array using Hoare's partitioning scheme.\n",
        "    Args:\n",
        "      array: The array to be sorted.\n",
        "      array: The array to be partitioned.\n",
        "      low: The lower bound of the sub-array to partition.\n",
        "      high: The upper bound of the sub-array to partition.\n",
        "    Returns:\n",
        "      The partition index (i.e., the index of the pivot element).\n",
        "    \"\"\"\n",
        "    pivot = nums[low]\n",
        "    i = low - 1\n",
        "    j = high + 1\n",
        "    while True:\n",
        "      while True:\n",
        "        j -= 1\n",
        "        if nums[j] <= pivot:\n",
        "          break\n",
        "      while True:\n",
        "        i += 1\n",
        "        if nums[i] >= pivot:\n",
        "          break\n",
        "      if i >= j:\n",
        "        return j\n",
        "      nums[i], nums[j] = nums[j], nums[i]\n",
        "\n",
        "  def hybrid_helper(nums, low, high):\n",
        "    \"\"\"\n",
        "    Sorts the sub-array using a hybrid approach of Lomuto and Hoare partitioning.\n",
        "    Args:\n",
        "      array: The array to be sorted.\n",
        "      low: The lower bound of the sub-array to sort.\n",
        "      high: The upper bound of the sub-array to sort.\n",
        "    \"\"\"\n",
        "    if high - low <= 10:\n",
        "      lomuto_partition(nums, low, high)\n",
        "    else:\n",
        "      if high - low < 100:\n",
        "        hoare_partition(nums, low, high)\n",
        "      else:\n",
        "        mid = (low + high) // 2\n",
        "        hybrid_helper(nums, low, mid)\n",
        "        hybrid_helper(nums, mid + 1, high)\n",
        "  hybrid_helper(nums, 0, len(nums) - 1)\n",
        "  return nums"
      ],
      "metadata": {
        "id": "QpBLnRG0Z_0G"
      },
      "execution_count": null,
      "outputs": []
    },
    {
      "cell_type": "code",
      "source": [
        "import random\n",
        "\n",
        "nums_size = 10000\n",
        "unsorted_array = list(range(nums_size))\n",
        "random.shuffle(unsorted_array)"
      ],
      "metadata": {
        "id": "ZqqQJA_ydB9L"
      },
      "execution_count": null,
      "outputs": []
    },
    {
      "cell_type": "code",
      "source": [
        "def bubble_sort(nums):\n",
        "  n = len(nums)\n",
        "  for i in range(0, n):\n",
        "    for j in range(i, n - i - 1):\n",
        "      if nums[j] > nums[j + 1]:\n",
        "        nums[j], nums[j + 1] = nums[j + 1], nums[j]\n",
        "  return nums"
      ],
      "metadata": {
        "id": "sYzBbgage92r"
      },
      "execution_count": null,
      "outputs": []
    },
    {
      "cell_type": "code",
      "source": [
        "def insertion_sort(nums):\n",
        "  n = len(nums)\n",
        "  for step in range(1, n):\n",
        "    key = nums[step]\n",
        "    j = step - 1\n",
        "\n",
        "    while j >= 0 and key < nums[j]:\n",
        "      nums[j + 1] = nums[j]\n",
        "      j = j - 1\n",
        "    nums[j + 1] = key\n",
        "  return nums"
      ],
      "metadata": {
        "id": "Ji3wA7F6hDdH"
      },
      "execution_count": null,
      "outputs": []
    },
    {
      "cell_type": "code",
      "source": [
        "def selection_sort(nums):\n",
        "  n = len(nums)\n",
        "  for step in range(n):\n",
        "    min_idx = step\n",
        "\n",
        "    for curr in range(step + 1, n):\n",
        "      if nums[curr] < nums[min_idx]:\n",
        "        min_idx = curr\n",
        "    nums[step], nums[min_idx] = nums[min_idx], nums[step]\n",
        "  return nums"
      ],
      "metadata": {
        "id": "LcUDvz54hfcg"
      },
      "execution_count": null,
      "outputs": []
    },
    {
      "cell_type": "code",
      "source": [
        "def merge_sort(nums):\n",
        "\tsize = len(nums)\n",
        "\n",
        "\tif size > 1:\n",
        "\t\t# Calculate mid point\n",
        "\t\tmid = size // 2\n",
        "\t\t# print(mid)\n",
        "\n",
        "\t\t# Now, divide the array into two halves\n",
        "\t\tleft = nums[:mid]\n",
        "\t\tright = nums[mid:]\n",
        "\n",
        "\t\t# Sort two halves\n",
        "\t\tmerge_sort(left)\n",
        "\t\tmerge_sort(right)\n",
        "\n",
        "\t\t# At last merge both the halves\n",
        "\t\ti = j = k = 0\n",
        "\n",
        "\t\twhile i < len(left) and j < len(right):\n",
        "\t\t\tif left[i] < right[j]:\n",
        "\t\t\t\tnums[k] = left[i]\n",
        "\t\t\t\ti += 1\n",
        "\t\t\telse:\n",
        "\t\t\t\tnums[k] = right[j]\n",
        "\t\t\t\tj += 1\n",
        "\t\t\tk += 1\n",
        "\n",
        "\n",
        "\t\twhile i < len (left):\n",
        "\t\t\tnums[k] = left[i]\n",
        "\t\t\ti += 1\n",
        "\t\t\tk += 1\n",
        "\n",
        "\t\twhile j < len(right):\n",
        "\t\t\tnums[k] = right[j]\n",
        "\t\t\tj += 1\n",
        "\t\t\tk += 1"
      ],
      "metadata": {
        "id": "lY8zhELQiTZ-"
      },
      "execution_count": null,
      "outputs": []
    },
    {
      "cell_type": "code",
      "source": [
        "def quick_sort(nums, low, high):\n",
        "  if low >= high:\n",
        "    return\n",
        "\n",
        "  start = low\n",
        "  end = high\n",
        "  mid = (start + end) // 2\n",
        "  pivot = nums[mid]\n",
        "\n",
        "  while start <= end:\n",
        "    while nums[start] < pivot:\n",
        "      start += 1\n",
        "    while nums[end] > pivot:\n",
        "      end -= 1\n",
        "\n",
        "    if start <= end:\n",
        "      temp = nums[start]\n",
        "      nums[start] = nums[end]\n",
        "      nums[end] = temp\n",
        "      start += 1\n",
        "      end -= 1\n",
        "\n",
        "  quick_sort(nums, low, end)\n",
        "  quick_sort(nums, start, high)"
      ],
      "metadata": {
        "id": "T45SpDOdiiUE"
      },
      "execution_count": null,
      "outputs": []
    },
    {
      "cell_type": "code",
      "source": [
        "# unsorted_array\n",
        "start = time.time()\n",
        "# sorted_array = bubble_sort(unsorted_array)\n",
        "# sorted_array = hybrid_sort(unsorted_array)\n",
        "# sorted_array = insertion_sort(unsorted_array)\n",
        "# sorted_array = selection_sort(unsorted_array)\n",
        "# sorted_array = quick_sort(unsorted_array, 0, len(unsorted_array) - 1)\n",
        "sorted_array = merge_sort(unsorted_array)\n",
        "end = time.time()"
      ],
      "metadata": {
        "id": "GnUksCP1eIKU"
      },
      "execution_count": null,
      "outputs": []
    },
    {
      "cell_type": "code",
      "source": [
        "elapsed_time = end - start"
      ],
      "metadata": {
        "id": "7ROR5gdIeN8F"
      },
      "execution_count": null,
      "outputs": []
    },
    {
      "cell_type": "code",
      "source": [
        "print(\"Time taken to sort the array:\", elapsed_time, \"seconds\")"
      ],
      "metadata": {
        "colab": {
          "base_uri": "https://localhost:8080/"
        },
        "id": "aJm-TxJ9eo8_",
        "outputId": "3529a65f-8e35-4b43-b21c-fb394bc38283"
      },
      "execution_count": null,
      "outputs": [
        {
          "output_type": "stream",
          "name": "stdout",
          "text": [
            "Time taken to sort the array: 0.024377822875976562 seconds\n"
          ]
        }
      ]
    },
    {
      "cell_type": "code",
      "source": [],
      "metadata": {
        "id": "iWXu9k_reyxM"
      },
      "execution_count": null,
      "outputs": []
    }
  ]
}